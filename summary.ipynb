{
 "cells": [
  {
   "cell_type": "code",
   "execution_count": 1,
   "metadata": {
    "collapsed": true
   },
   "outputs": [],
   "source": [
    "%matplotlib inline"
   ]
  },
  {
   "cell_type": "code",
   "execution_count": null,
   "metadata": {
    "collapsed": true
   },
   "outputs": [],
   "source": []
  },
  {
   "cell_type": "markdown",
   "metadata": {},
   "source": [
    "# Forcing mechanisms for drifters entering and exiting Galveston Bay\n",
    "\n",
    "An on-going area of interest for response efforts at the Texas General Land Office is under what conditions oil may exit or enter a given bay. Here, we limit our scope to Galveston Bay and use statistics to find relationships between drifter entrances/exits and potential forcing mechanisms.\n",
    "\n",
    "## Relevant previous effort\n",
    "\n",
    "This work builds on already-existing shelf model output (DJ's [20 year hindcast](http://barataria.tamu.edu:8080/thredds/dodsC/NcML/txla_hindcast_agg)) and Dongyu's effort to blended the \"coarse\" resolution Galveston Bay model with the shelf model to create a blended model product for seamlessly running drifters. The drifter simulations here are run using the blended model product."
   ]
  },
  {
   "cell_type": "markdown",
   "metadata": {},
   "source": [
    "## Run the drifters\n",
    "\n",
    "The drifters were run on hafen (`/raid/home/kthyng/projects/bay/`) using the run.py script. Pertinent simulation details:\n",
    "\n",
    "* Output drifter locations every 15 minutes\n",
    "* Ran forward/backward for 14 days\n",
    "* Circulation model output is hourly\n",
    "* Surface drifters\n",
    "* No subgrid diffusion\n",
    "* 300 meter initial distance between drifters\n",
    "* Drifters started in uniform array within bay\n",
    "* Simulations are started from 4 dates:\n",
    " * 2010-02-01: winter winds, high river discharge\n",
    " * 2011-02-01: winter winds, low river discharge\n",
    " * 2010-07-01: summer winds, high river discharge\n",
    " * 2011-07-01: summer winds, low river discharge\n",
    "* Simulations are run forward from the dates listed above, and backward from 2 weeks after the dates listed above. That is, the forward- and backward-running simulations are simulataneous but represent drifters exiting and entering the domain (respectively).\n",
    "* New simulations are started every 4 hours for 2 weeks for a total number of simulations of: 6 * 14=84 simulations for each set (i.e. season and run direction)\n",
    "* Each simulation has 13,340 drifters, so each set (i.e. season and run direction) has 13340 * 84=1,120,560 drifters or over 1.1 million.\n",
    "\n",
    "Note that the appropriate file names for these simulations fit the pattern: `2010-02-01_forward_14days_dx300`.\n",
    "\n",
    "The simulations have already been run using:\n",
    "\n",
    "    python2 run.py > logs/[etc] &\n",
    "\n",
    "The drifter tracks are stored on hafen in `tracks`.\n",
    "\n",
    "The figure below shows the initial drifter locations.\n",
    "![](figures/starting_points_bay_dx300.png)"
   ]
  },
  {
   "cell_type": "code",
   "execution_count": null,
   "metadata": {
    "collapsed": true
   },
   "outputs": [],
   "source": []
  },
  {
   "cell_type": "code",
   "execution_count": null,
   "metadata": {
    "collapsed": true
   },
   "outputs": [],
   "source": []
  }
 ],
 "metadata": {
  "kernelspec": {
   "display_name": "Python [Root]",
   "language": "python",
   "name": "Python [Root]"
  },
  "language_info": {
   "codemirror_mode": {
    "name": "ipython",
    "version": 3
   },
   "file_extension": ".py",
   "mimetype": "text/x-python",
   "name": "python",
   "nbconvert_exporter": "python",
   "pygments_lexer": "ipython3",
   "version": "3.5.0rc4"
  }
 },
 "nbformat": 4,
 "nbformat_minor": 0
}
